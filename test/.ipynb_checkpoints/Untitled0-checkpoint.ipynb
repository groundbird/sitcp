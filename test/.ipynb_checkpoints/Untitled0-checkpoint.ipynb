{
 "metadata": {
  "name": "",
  "signature": "sha256:48e4a0f28b486781d3a989e2381a7babb3dfe72e8bcb3fb5e81cd62cb0db5499"
 },
 "nbformat": 3,
 "nbformat_minor": 0,
 "worksheets": []
}